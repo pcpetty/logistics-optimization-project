{
 "cells": [
  {
   "cell_type": "markdown",
   "metadata": {},
   "source": [
    "# Feature Engineering\n",
    "\n",
    "---\n",
    "\n",
    "Introduction\n",
    "\n",
    "Feature engineering is the heart of predictive analytics, transforming raw data into meaningful features that enhance the model’s performance. In our logistics optimization project, this stage is essential for creating features that capture the nuances of our data and improve our predictive capabilities. By building on insights from the EDA, we’ll derive new features like Cost per Mile and Delivery Efficiency (measured as Distance per Time) to quantify efficiency. These features provide refined lenses through which we can analyze operational costs, helping to differentiate efficient routes and drivers from less efficient ones.\n",
    "\n",
    "In addition to creating new features, we will standardize and encode categorical data to prepare the dataset for machine learning. This structured dataset, rich with engineered features, will form the basis for our predictive models, ultimately allowing us to make informed, data-driven recommendations for logistics optimization.\n",
    "\n",
    "---\n",
    "\n",
    "Conclusion\n",
    "\n",
    "Our feature engineering efforts have enriched the dataset, creating a series of well-defined predictors that will be invaluable in the modeling stage. Cost per Mile and Delivery Efficiency provide quantifiable measures of efficiency, while standardized and encoded categorical data ensure that our models can interpret the dataset effectively. These engineered features not only capture essential operational characteristics but also serve as levers for optimization. By completing this stage, we have crafted a dataset that is primed for predictive modeling, ready to unlock actionable insights into logistics operations.\n",
    "\n",
    "---\n"
   ]
  },
  {
   "cell_type": "markdown",
   "metadata": {},
   "source": [
    "Loading and Preparing Data"
   ]
  },
  {
   "cell_type": "code",
   "execution_count": 68,
   "metadata": {},
   "outputs": [],
   "source": [
    "# Import necessary libraries\n",
    "import pandas as pd\n",
    "import numpy as np\n",
    "import matplotlib.pyplot as plt\n",
    "import seaborn as sns"
   ]
  },
  {
   "cell_type": "code",
   "execution_count": 69,
   "metadata": {},
   "outputs": [],
   "source": [
    "import sys\n",
    "import os\n",
    "\n",
    "# 'scripts' is in the same parent directory as 'notebooks'\n",
    "sys.path.append(os.path.abspath(\"../scripts\"))\n",
    "\n",
    "from feature_engineering import create_features"
   ]
  },
  {
   "cell_type": "code",
   "execution_count": 70,
   "metadata": {},
   "outputs": [
    {
     "data": {
      "text/html": [
       "<div>\n",
       "<style scoped>\n",
       "    .dataframe tbody tr th:only-of-type {\n",
       "        vertical-align: middle;\n",
       "    }\n",
       "\n",
       "    .dataframe tbody tr th {\n",
       "        vertical-align: top;\n",
       "    }\n",
       "\n",
       "    .dataframe thead th {\n",
       "        text-align: right;\n",
       "    }\n",
       "</style>\n",
       "<table border=\"1\" class=\"dataframe\">\n",
       "  <thead>\n",
       "    <tr style=\"text-align: right;\">\n",
       "      <th></th>\n",
       "      <th>Route ID</th>\n",
       "      <th>Driver ID</th>\n",
       "      <th>Manifest</th>\n",
       "      <th>Delivery Duration (hours)</th>\n",
       "      <th>Date</th>\n",
       "      <th>Fuel Price per Gallon (USD)</th>\n",
       "      <th>Actual Distance (miles)</th>\n",
       "      <th>Planned Distance (miles)</th>\n",
       "      <th>Weather Conditions</th>\n",
       "      <th>Traffic Conditions</th>\n",
       "      <th>...</th>\n",
       "      <th>Toll Costs (USD)</th>\n",
       "      <th>Parking Costs (USD)</th>\n",
       "      <th>Time Idling (hours)</th>\n",
       "      <th>Miles per Gallon</th>\n",
       "      <th>Calculated Fuel Cost (USD)</th>\n",
       "      <th>Idle Cost (USD)</th>\n",
       "      <th>Fuel Cost Per Mile</th>\n",
       "      <th>Total Operational Cost (USD)</th>\n",
       "      <th>Weather Severity</th>\n",
       "      <th>Weather Severity Score</th>\n",
       "    </tr>\n",
       "  </thead>\n",
       "  <tbody>\n",
       "    <tr>\n",
       "      <th>0</th>\n",
       "      <td>MIA/BNA</td>\n",
       "      <td>BC7706</td>\n",
       "      <td>3815805</td>\n",
       "      <td>6.25</td>\n",
       "      <td>2023-02-28</td>\n",
       "      <td>4.0</td>\n",
       "      <td>1690.79</td>\n",
       "      <td>862.13</td>\n",
       "      <td>Snow</td>\n",
       "      <td>Moderate</td>\n",
       "      <td>...</td>\n",
       "      <td>14.42</td>\n",
       "      <td>21.00</td>\n",
       "      <td>0.46</td>\n",
       "      <td>7.03</td>\n",
       "      <td>962.65</td>\n",
       "      <td>0.93</td>\n",
       "      <td>0.57</td>\n",
       "      <td>1659.22</td>\n",
       "      <td>2</td>\n",
       "      <td>2</td>\n",
       "    </tr>\n",
       "    <tr>\n",
       "      <th>1</th>\n",
       "      <td>PHX/MCO</td>\n",
       "      <td>ZN7236</td>\n",
       "      <td>7299049</td>\n",
       "      <td>5.67</td>\n",
       "      <td>2023-10-29</td>\n",
       "      <td>3.5</td>\n",
       "      <td>2693.86</td>\n",
       "      <td>1970.77</td>\n",
       "      <td>Heavy Rain</td>\n",
       "      <td>Moderate</td>\n",
       "      <td>...</td>\n",
       "      <td>39.82</td>\n",
       "      <td>7.16</td>\n",
       "      <td>1.65</td>\n",
       "      <td>7.48</td>\n",
       "      <td>1259.91</td>\n",
       "      <td>2.89</td>\n",
       "      <td>0.47</td>\n",
       "      <td>2237.47</td>\n",
       "      <td>2</td>\n",
       "      <td>2</td>\n",
       "    </tr>\n",
       "    <tr>\n",
       "      <th>2</th>\n",
       "      <td>MCO/MIA</td>\n",
       "      <td>AW5182</td>\n",
       "      <td>9497986</td>\n",
       "      <td>1.31</td>\n",
       "      <td>2023-09-14</td>\n",
       "      <td>4.0</td>\n",
       "      <td>925.07</td>\n",
       "      <td>1337.27</td>\n",
       "      <td>Heavy Rain</td>\n",
       "      <td>Heavy</td>\n",
       "      <td>...</td>\n",
       "      <td>24.93</td>\n",
       "      <td>10.30</td>\n",
       "      <td>0.83</td>\n",
       "      <td>7.76</td>\n",
       "      <td>476.54</td>\n",
       "      <td>1.66</td>\n",
       "      <td>0.52</td>\n",
       "      <td>1883.15</td>\n",
       "      <td>2</td>\n",
       "      <td>2</td>\n",
       "    </tr>\n",
       "    <tr>\n",
       "      <th>3</th>\n",
       "      <td>MIA/DCA</td>\n",
       "      <td>XY7077</td>\n",
       "      <td>7232797</td>\n",
       "      <td>2.38</td>\n",
       "      <td>2023-12-31</td>\n",
       "      <td>4.5</td>\n",
       "      <td>660.51</td>\n",
       "      <td>1833.61</td>\n",
       "      <td>Heavy Rain</td>\n",
       "      <td>Moderate</td>\n",
       "      <td>...</td>\n",
       "      <td>22.28</td>\n",
       "      <td>8.18</td>\n",
       "      <td>0.68</td>\n",
       "      <td>6.83</td>\n",
       "      <td>435.50</td>\n",
       "      <td>1.53</td>\n",
       "      <td>0.66</td>\n",
       "      <td>2538.15</td>\n",
       "      <td>1</td>\n",
       "      <td>1</td>\n",
       "    </tr>\n",
       "    <tr>\n",
       "      <th>4</th>\n",
       "      <td>LAS/SAN</td>\n",
       "      <td>HJ7731</td>\n",
       "      <td>2201569</td>\n",
       "      <td>1.24</td>\n",
       "      <td>2023-05-02</td>\n",
       "      <td>4.5</td>\n",
       "      <td>1135.09</td>\n",
       "      <td>428.03</td>\n",
       "      <td>Snow</td>\n",
       "      <td>Light</td>\n",
       "      <td>...</td>\n",
       "      <td>37.74</td>\n",
       "      <td>12.98</td>\n",
       "      <td>0.67</td>\n",
       "      <td>7.84</td>\n",
       "      <td>651.60</td>\n",
       "      <td>1.50</td>\n",
       "      <td>0.57</td>\n",
       "      <td>2169.99</td>\n",
       "      <td>1</td>\n",
       "      <td>1</td>\n",
       "    </tr>\n",
       "  </tbody>\n",
       "</table>\n",
       "<p>5 rows × 34 columns</p>\n",
       "</div>"
      ],
      "text/plain": [
       "  Route ID Driver ID  Manifest  Delivery Duration (hours)        Date  \\\n",
       "0  MIA/BNA    BC7706   3815805                       6.25  2023-02-28   \n",
       "1  PHX/MCO    ZN7236   7299049                       5.67  2023-10-29   \n",
       "2  MCO/MIA    AW5182   9497986                       1.31  2023-09-14   \n",
       "3  MIA/DCA    XY7077   7232797                       2.38  2023-12-31   \n",
       "4  LAS/SAN    HJ7731   2201569                       1.24  2023-05-02   \n",
       "\n",
       "   Fuel Price per Gallon (USD)  Actual Distance (miles)  \\\n",
       "0                          4.0                  1690.79   \n",
       "1                          3.5                  2693.86   \n",
       "2                          4.0                   925.07   \n",
       "3                          4.5                   660.51   \n",
       "4                          4.5                  1135.09   \n",
       "\n",
       "   Planned Distance (miles) Weather Conditions Traffic Conditions  ...  \\\n",
       "0                    862.13               Snow           Moderate  ...   \n",
       "1                   1970.77         Heavy Rain           Moderate  ...   \n",
       "2                   1337.27         Heavy Rain              Heavy  ...   \n",
       "3                   1833.61         Heavy Rain           Moderate  ...   \n",
       "4                    428.03               Snow              Light  ...   \n",
       "\n",
       "   Toll Costs (USD) Parking Costs (USD)  Time Idling (hours)  \\\n",
       "0             14.42               21.00                 0.46   \n",
       "1             39.82                7.16                 1.65   \n",
       "2             24.93               10.30                 0.83   \n",
       "3             22.28                8.18                 0.68   \n",
       "4             37.74               12.98                 0.67   \n",
       "\n",
       "   Miles per Gallon  Calculated Fuel Cost (USD) Idle Cost (USD)  \\\n",
       "0              7.03                      962.65            0.93   \n",
       "1              7.48                     1259.91            2.89   \n",
       "2              7.76                      476.54            1.66   \n",
       "3              6.83                      435.50            1.53   \n",
       "4              7.84                      651.60            1.50   \n",
       "\n",
       "   Fuel Cost Per Mile Total Operational Cost (USD) Weather Severity  \\\n",
       "0                0.57                      1659.22                2   \n",
       "1                0.47                      2237.47                2   \n",
       "2                0.52                      1883.15                2   \n",
       "3                0.66                      2538.15                1   \n",
       "4                0.57                      2169.99                1   \n",
       "\n",
       "  Weather Severity Score  \n",
       "0                      2  \n",
       "1                      2  \n",
       "2                      2  \n",
       "3                      1  \n",
       "4                      1  \n",
       "\n",
       "[5 rows x 34 columns]"
      ]
     },
     "execution_count": 70,
     "metadata": {},
     "output_type": "execute_result"
    }
   ],
   "source": [
    "# Load the cleaned data\n",
    "logistics_df = pd.read_csv('../data/raw/logistics_df.csv')\n",
    "logistics_df.head()"
   ]
  },
  {
   "cell_type": "code",
   "execution_count": 71,
   "metadata": {},
   "outputs": [],
   "source": [
    "# Create Cost per Mile\n",
    "logistics_df['Cost per Mile'] = logistics_df['Calculated Fuel Cost (USD)'] / logistics_df['Actual Distance (miles)']\n"
   ]
  },
  {
   "cell_type": "code",
   "execution_count": 72,
   "metadata": {},
   "outputs": [],
   "source": [
    "logistics_df['Cost per Ton-Mile'] = logistics_df['Total Operational Cost (USD)'] / (logistics_df['Load Weight (tons)'] * logistics_df['Actual Distance (miles)'])"
   ]
  },
  {
   "cell_type": "code",
   "execution_count": 73,
   "metadata": {},
   "outputs": [],
   "source": [
    "# Create Delivery Efficiency feature\n",
    "logistics_df['Delivery Efficiency'] = logistics_df['Actual Distance (miles)'] / logistics_df['Delivery Duration (hours)']"
   ]
  },
  {
   "cell_type": "code",
   "execution_count": 74,
   "metadata": {},
   "outputs": [],
   "source": [
    "# Map Customer Satisfaction to numeric values (assuming an ordinal scale)\n",
    "satisfaction_map = {\n",
    "    'Very Dissatisfied': 1,\n",
    "    'Dissatisfied': 2,\n",
    "    'Neutral': 3,\n",
    "    'Satisfied': 4,\n",
    "    'Very Satisfied': 5\n",
    "}\n",
    "\n",
    "# Apply the mapping\n",
    "logistics_df['Customer Satisfaction'] = logistics_df['Customer Satisfaction'].map(satisfaction_map)\n",
    "\n",
    "inefficient_routes = logistics_df[\n",
    "    (logistics_df['Calculated Fuel Cost (USD)'] > logistics_df['Calculated Fuel Cost (USD)'].quantile(0.75)) |\n",
    "    (logistics_df['Delays (hours)'] > logistics_df['Delays (hours)'].quantile(0.75)) |\n",
    "    (logistics_df['Customer Satisfaction'] < 3)]"
   ]
  },
  {
   "cell_type": "markdown",
   "metadata": {},
   "source": [
    "Traffic Conditions:\n",
    "        \n",
    "Purpose: Helps analyze how traffic impacts delivery time and fuel consumption, allows recommending optimal delivery times or routes.\n"
   ]
  },
  {
   "cell_type": "code",
   "execution_count": 75,
   "metadata": {},
   "outputs": [],
   "source": [
    " # Categorize routes by length\n",
    "conditions = [\n",
    "    (logistics_df['Actual Distance (miles)'] < 100),\n",
    "    (logistics_df['Actual Distance (miles)'] >= 100) & (logistics_df['Actual Distance (miles)'] < 300),\n",
    "    (logistics_df['Actual Distance (miles)'] >= 300)\n",
    "    ]\n",
    "categories = ['Short', 'Medium', 'Long']\n",
    "logistics_df['Route Length'] = np.select(conditions, categories)\n",
    "\n",
    "    # Map weather conditions to severity levels\n",
    "weather_map = {\n",
    "    'Sunny': 'Low',\n",
    "    'Cloudy': 'Low',\n",
    "    'Windy': 'Moderate',\n",
    "    'Rainy': 'High',\n",
    "    'Snowy': 'High',\n",
    "    'Stormy': 'Severe'\n",
    "    }\n",
    "logistics_df['Weather Severity'] = logistics_df['Weather Conditions'].map(weather_map)\n"
   ]
  },
  {
   "cell_type": "code",
   "execution_count": 76,
   "metadata": {},
   "outputs": [],
   "source": [
    "weather_map = {'Sunny': 1, 'Cloudy': 2, 'Windy': 3, 'Rainy': 4, 'Snowy': 5, 'Stormy': 6}\n",
    "logistics_df['Weather Severity Score'] = logistics_df['Weather Conditions'].map(weather_map)"
   ]
  },
  {
   "cell_type": "code",
   "execution_count": 77,
   "metadata": {},
   "outputs": [],
   "source": [
    "logistics_df['Severe Weather'] = logistics_df['Weather Conditions'].apply(lambda x: 1 if x in ['Rainy', 'Snowy', 'Stormy'] else 0)"
   ]
  },
  {
   "cell_type": "code",
   "execution_count": 78,
   "metadata": {},
   "outputs": [],
   "source": [
    "severity_mapping = {'Clear': 0, 'Light Rain': 1, 'Heavy Rain': 2, 'Snow': 3, 'Fog': 2}  # Example severity scores\n",
    "logistics_df['Weather Severity Index'] = logistics_df['Weather Conditions'].map(severity_mapping)"
   ]
  },
  {
   "cell_type": "code",
   "execution_count": 79,
   "metadata": {},
   "outputs": [],
   "source": [
    "inefficient_routes = logistics_df[\n",
    "    (logistics_df['Cost per Mile'] > logistics_df['Cost per Mile'].quantile(0.75)) |\n",
    "    (logistics_df['Delays (hours)'] > logistics_df['Delays (hours)'].quantile(0.75)) |\n",
    "    (logistics_df['Customer Satisfaction'] < 3)\n",
    "]\n"
   ]
  },
  {
   "cell_type": "code",
   "execution_count": 80,
   "metadata": {},
   "outputs": [],
   "source": [
    "route_delivery_time = logistics_df.groupby('Route ID')['Delivery Duration (hours)'].mean()"
   ]
  },
  {
   "cell_type": "code",
   "execution_count": 81,
   "metadata": {},
   "outputs": [],
   "source": [
    "# Replace instances of `Calculated Fuel Costs (USD)` with `Fuel Cost per Mile`\n",
    "# Example if calculating average or other metrics\n",
    "avg_fuel_cost_per_mile = logistics_df['Fuel Cost Per Mile'].mean()"
   ]
  },
  {
   "cell_type": "code",
   "execution_count": 82,
   "metadata": {},
   "outputs": [],
   "source": [
    "logistics_df['Fuel Cost per Mile'] = logistics_df['Calculated Fuel Cost (USD)'] / logistics_df['Actual Distance (miles)']"
   ]
  },
  {
   "cell_type": "code",
   "execution_count": 83,
   "metadata": {},
   "outputs": [],
   "source": [
    "logistics_df['Performance Score'] = (1 / (1 + logistics_df['Delays (hours)']) * logistics_df['Customer Satisfaction'] * (1 / (1 + logistics_df['Fuel Cost per Mile'])))"
   ]
  },
  {
   "cell_type": "code",
   "execution_count": 84,
   "metadata": {},
   "outputs": [],
   "source": [
    "logistics_df['Driver Consistency Score'] = logistics_df.groupby('Driver ID')['Delays (hours)'].transform('mean')"
   ]
  },
  {
   "cell_type": "code",
   "execution_count": 85,
   "metadata": {},
   "outputs": [],
   "source": [
    "# Calculate Fuel Cost per Mile\n",
    "logistics_df['Fuel Cost per Mile'] = logistics_df['Calculated Fuel Cost (USD)'] / logistics_df['Actual Distance (miles)']\n"
   ]
  },
  {
   "cell_type": "code",
   "execution_count": 86,
   "metadata": {},
   "outputs": [],
   "source": [
    "logistics_df = pd.get_dummies(logistics_df, columns=['Traffic Conditions'], drop_first=False)"
   ]
  },
  {
   "cell_type": "code",
   "execution_count": 87,
   "metadata": {},
   "outputs": [],
   "source": [
    "# Add a binary target variable for On-Time Delivery\n",
    "logistics_df['On-Time Delivery'] = np.where(logistics_df['Delays (hours)'] > 1, 0, 1)  # 1 = On-Time, 0 = Delayed"
   ]
  },
  {
   "cell_type": "markdown",
   "metadata": {},
   "source": [
    "New Features for Driver Experience and Weather Severity\n",
    "a) Driver Experience on Specific Routes\n",
    "\n",
    "Assign numeric values based on driver experience to analyze its impact on long and challenging routes."
   ]
  },
  {
   "cell_type": "code",
   "execution_count": 88,
   "metadata": {},
   "outputs": [],
   "source": [
    "# Map driver experience to numeric values\n",
    "experience_map = {'Junior': 1, 'Intermediate': 2, 'Senior': 3}\n",
    "logistics_df['Driver Experience Level'] = logistics_df['Driver Experience'].map(experience_map)\n",
    "\n",
    "# Interaction term: experienced drivers on long routes\n",
    "logistics_df['Experience on Long Routes'] = logistics_df['Driver Experience Level'] * (logistics_df['Route Length'] == 'Long').astype(int)"
   ]
  },
  {
   "cell_type": "code",
   "execution_count": 89,
   "metadata": {},
   "outputs": [
    {
     "data": {
      "image/png": "[encoded data removed]",
      "text/plain": [
       "<Figure size 640x480 with 1 Axes>"
      ]
     },
     "metadata": {},
     "output_type": "display_data"
    }
   ],
   "source": [
    "sns.histplot(logistics_df['Cost per Mile'], bins=30, kde=True)\n",
    "plt.title(\"Distribution of Cost per Mile\")\n",
    "plt.show()\n"
   ]
  },
  {
   "cell_type": "code",
   "execution_count": 90,
   "metadata": {},
   "outputs": [],
   "source": [
    "# Save the engineered data\n",
    "logistics_df.to_csv('../data/processed/engineered_data.csv', index=False)\n"
   ]
  },
  {
   "cell_type": "code",
   "execution_count": 91,
   "metadata": {},
   "outputs": [],
   "source": [
    "engineered_data = pd.read_csv('../data/processed/engineered_data.csv')\n",
    "# Rounding to 4 decimal places for specific columns\n",
    "columns_to_round = [\"Actual Distance (miles)\", \"Planned Distance (miles)\", \"Calculated Fuel Cost (USD)\"]\n",
    "engineered_data[columns_to_round] = engineered_data[columns_to_round].round(4)\n",
    "\n",
    "# Calculating \"Distance Difference\" and ensuring it's non-negative\n",
    "engineered_data[\"Distance Difference (miles)\"] = (engineered_data[\"Actual Distance (miles)\"] - engineered_data[\"Planned Distance (miles)\"]).clip(lower=0)\n",
    "\n",
    "# Ensuring columns like \"Weather Severity\" aren't empty by assigning defaults\n",
    "engineered_data[\"Weather Severity\"] = np.random.choice([0, 1, 2, 3], size=10000)\n",
    "engineered_data[\"Weather Severity Score\"] = np.where(engineered_data[\"Weather Conditions\"] == \"Clear\", 0, engineered_data[\"Weather Severity\"])"
   ]
  },
  {
   "cell_type": "markdown",
   "metadata": {},
   "source": [
    "\n",
    "Enhanced Modeling\n",
    "a) Improved Feature Engineering for Regression Model\n",
    "\n",
    "Add interaction terms and apply hyperparameter tuning for better performance."
   ]
  },
  {
   "cell_type": "code",
   "execution_count": 92,
   "metadata": {},
   "outputs": [
    {
     "name": "stdout",
     "output_type": "stream",
     "text": [
      "Best Parameters: {'max_depth': 10, 'min_samples_split': 10, 'n_estimators': 200}\n",
      "Best RMSE: 459.61314476902146\n"
     ]
    }
   ],
   "source": [
    "# Interaction term: Distance and Truck Condition\n",
    "logistics_df['Distance * Truck Condition'] = logistics_df['Actual Distance (miles)'] * logistics_df['Truck Condition']\n",
    "\n",
    "# Define features and target\n",
    "X = logistics_df[['Actual Distance (miles)', 'Truck Condition', 'Driver Ratings', 'Load Weight (tons)', \n",
    "                  'Traffic Conditions_Severe', 'Weather Severity Index', 'Distance * Truck Condition']]\n",
    "y = logistics_df['Total Operational Cost (USD)']\n",
    "\n",
    "# Hyperparameter tuning with GridSearchCV\n",
    "from sklearn.ensemble import RandomForestRegressor\n",
    "from sklearn.model_selection import GridSearchCV\n",
    "\n",
    "param_grid = {\n",
    "    'n_estimators': [100, 200],\n",
    "    'max_depth': [10, 20, None],\n",
    "    'min_samples_split': [2, 5, 10]\n",
    "}\n",
    "\n",
    "grid_search = GridSearchCV(RandomForestRegressor(random_state=42), param_grid, cv=5, scoring='neg_mean_squared_error')\n",
    "grid_search.fit(X, y)\n",
    "\n",
    "print(\"Best Parameters:\", grid_search.best_params_)\n",
    "print(\"Best RMSE:\", np.sqrt(-grid_search.best_score_))"
   ]
  }
 ],
 "metadata": {
  "kernelspec": {
   "display_name": "condavenv310",
   "language": "python",
   "name": "python3"
  },
  "language_info": {
   "codemirror_mode": {
    "name": "ipython",
    "version": 3
   },
   "file_extension": ".py",
   "mimetype": "text/x-python",
   "name": "python",
   "nbconvert_exporter": "python",
   "pygments_lexer": "ipython3",
   "version": "3.10.14"
  }
 },
 "nbformat": 4,
 "nbformat_minor": 2
}
