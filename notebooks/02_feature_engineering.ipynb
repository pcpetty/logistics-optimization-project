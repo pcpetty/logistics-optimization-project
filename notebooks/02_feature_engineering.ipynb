{
 "cells": [
  {
   "cell_type": "markdown",
   "metadata": {},
   "source": [
    "# Feature Engineering\n",
    "\n",
    "---\n",
    "\n",
    "## 1. Introduction\n",
    "\n",
    "- Explain the purpose of this notebook.\n",
    "- Briefly list the new features you plan to create.\n",
    "\n",
    "## 2. Loading and Preparing Data"
   ]
  },
  {
   "cell_type": "code",
   "execution_count": 106,
   "metadata": {},
   "outputs": [],
   "source": [
    "# Import necessary libraries\n",
    "import pandas as pd\n",
    "import numpy as np\n",
    "import matplotlib.pyplot as plt\n",
    "import seaborn as sns"
   ]
  },
  {
   "cell_type": "code",
   "execution_count": 107,
   "metadata": {},
   "outputs": [],
   "source": [
    "import sys\n",
    "import os\n",
    "\n",
    "# Assuming 'scripts' is in the same parent directory as 'notebooks'\n",
    "sys.path.append(os.path.abspath(\"../scripts\"))\n",
    "\n",
    "from feature_engineering import create_features"
   ]
  },
  {
   "cell_type": "code",
   "execution_count": 108,
   "metadata": {},
   "outputs": [
    {
     "data": {
      "text/html": [
       "<div>\n",
       "<style scoped>\n",
       "    .dataframe tbody tr th:only-of-type {\n",
       "        vertical-align: middle;\n",
       "    }\n",
       "\n",
       "    .dataframe tbody tr th {\n",
       "        vertical-align: top;\n",
       "    }\n",
       "\n",
       "    .dataframe thead th {\n",
       "        text-align: right;\n",
       "    }\n",
       "</style>\n",
       "<table border=\"1\" class=\"dataframe\">\n",
       "  <thead>\n",
       "    <tr style=\"text-align: right;\">\n",
       "      <th></th>\n",
       "      <th>Route ID</th>\n",
       "      <th>Driver ID</th>\n",
       "      <th>Delivery Time (hours)</th>\n",
       "      <th>Date</th>\n",
       "      <th>Fuel Costs (USD)</th>\n",
       "      <th>Delivery Start Time</th>\n",
       "      <th>Distance Traveled (miles)</th>\n",
       "      <th>Estimated Distance (miles)</th>\n",
       "      <th>Weather Conditions</th>\n",
       "      <th>Traffic Conditions</th>\n",
       "      <th>...</th>\n",
       "      <th>Cost per Gallon (USD)</th>\n",
       "      <th>Total Fuel Cost (USD)</th>\n",
       "      <th>Insurance Costs (USD)</th>\n",
       "      <th>Breakdown Repair Costs (USD)</th>\n",
       "      <th>Overtime Labor Costs (USD)</th>\n",
       "      <th>Fuel Surcharge (USD)</th>\n",
       "      <th>Idle Cost (USD)</th>\n",
       "      <th>Total Operational Cost (USD)</th>\n",
       "      <th>Fuel Cost per Mile</th>\n",
       "      <th>Delivery Efficiency Score</th>\n",
       "    </tr>\n",
       "  </thead>\n",
       "  <tbody>\n",
       "    <tr>\n",
       "      <th>0</th>\n",
       "      <td>c405a09a-7c1c-4cbb-b044-8d93ec12fd41</td>\n",
       "      <td>cd5f2588-0177-4ecf-b43b-64e4cffdae77</td>\n",
       "      <td>3.661775</td>\n",
       "      <td>2023-04-24</td>\n",
       "      <td>73.167465</td>\n",
       "      <td>18:11:58</td>\n",
       "      <td>1453.290310</td>\n",
       "      <td>1284.660045</td>\n",
       "      <td>Snow</td>\n",
       "      <td>Moderate</td>\n",
       "      <td>...</td>\n",
       "      <td>3.5</td>\n",
       "      <td>612.042183</td>\n",
       "      <td>82.188272</td>\n",
       "      <td>658.105936</td>\n",
       "      <td>0.000000</td>\n",
       "      <td>7.739251</td>\n",
       "      <td>1.197690</td>\n",
       "      <td>854.695690</td>\n",
       "      <td>0.050346</td>\n",
       "      <td>0.035347</td>\n",
       "    </tr>\n",
       "    <tr>\n",
       "      <th>1</th>\n",
       "      <td>1fedfb9c-4dd4-4866-ba9b-249b6c28a57c</td>\n",
       "      <td>cef901ab-9579-4d33-8a47-f2d772f71c72</td>\n",
       "      <td>9.159558</td>\n",
       "      <td>2023-08-08</td>\n",
       "      <td>639.179375</td>\n",
       "      <td>00:56:12</td>\n",
       "      <td>751.259132</td>\n",
       "      <td>2132.837081</td>\n",
       "      <td>Snow</td>\n",
       "      <td>Moderate</td>\n",
       "      <td>...</td>\n",
       "      <td>3.0</td>\n",
       "      <td>271.188926</td>\n",
       "      <td>31.393083</td>\n",
       "      <td>699.534174</td>\n",
       "      <td>29.666102</td>\n",
       "      <td>67.608867</td>\n",
       "      <td>0.909051</td>\n",
       "      <td>1531.803244</td>\n",
       "      <td>0.850811</td>\n",
       "      <td>0.006516</td>\n",
       "    </tr>\n",
       "    <tr>\n",
       "      <th>2</th>\n",
       "      <td>5870f02e-e6c5-47a2-b17c-2d9eb0a6b371</td>\n",
       "      <td>0ee00c87-6ef8-4895-b25a-ef185b8f1555</td>\n",
       "      <td>1.372942</td>\n",
       "      <td>2023-08-22</td>\n",
       "      <td>92.633480</td>\n",
       "      <td>02:29:03</td>\n",
       "      <td>2666.204691</td>\n",
       "      <td>2661.824609</td>\n",
       "      <td>Light Rain</td>\n",
       "      <td>Light</td>\n",
       "      <td>...</td>\n",
       "      <td>3.5</td>\n",
       "      <td>1122.851867</td>\n",
       "      <td>54.905655</td>\n",
       "      <td>999.656631</td>\n",
       "      <td>0.000000</td>\n",
       "      <td>9.798258</td>\n",
       "      <td>2.693096</td>\n",
       "      <td>1178.100685</td>\n",
       "      <td>0.034744</td>\n",
       "      <td>0.060085</td>\n",
       "    </tr>\n",
       "    <tr>\n",
       "      <th>3</th>\n",
       "      <td>7d4a8625-bd3a-42e8-ba14-1770b143f82d</td>\n",
       "      <td>49a5eacb-02d2-408b-b79d-9d3f447d2e37</td>\n",
       "      <td>3.855411</td>\n",
       "      <td>2023-08-24</td>\n",
       "      <td>538.893607</td>\n",
       "      <td>21:07:08</td>\n",
       "      <td>1220.239053</td>\n",
       "      <td>691.805233</td>\n",
       "      <td>Snow</td>\n",
       "      <td>Severe</td>\n",
       "      <td>...</td>\n",
       "      <td>3.0</td>\n",
       "      <td>440.480927</td>\n",
       "      <td>39.639937</td>\n",
       "      <td>825.812869</td>\n",
       "      <td>0.000000</td>\n",
       "      <td>57.001192</td>\n",
       "      <td>2.442666</td>\n",
       "      <td>1495.349013</td>\n",
       "      <td>0.441630</td>\n",
       "      <td>0.047148</td>\n",
       "    </tr>\n",
       "    <tr>\n",
       "      <th>4</th>\n",
       "      <td>a4f49219-8ed9-49cd-a20e-6f82cc0e9554</td>\n",
       "      <td>b3ae425a-f6f9-41c6-ac70-672e7a7e5bcf</td>\n",
       "      <td>2.194644</td>\n",
       "      <td>2023-08-10</td>\n",
       "      <td>810.358195</td>\n",
       "      <td>11:36:06</td>\n",
       "      <td>2686.870337</td>\n",
       "      <td>2337.833994</td>\n",
       "      <td>Heavy Rain</td>\n",
       "      <td>Heavy</td>\n",
       "      <td>...</td>\n",
       "      <td>3.5</td>\n",
       "      <td>1131.555047</td>\n",
       "      <td>39.600330</td>\n",
       "      <td>769.116645</td>\n",
       "      <td>0.000000</td>\n",
       "      <td>85.715218</td>\n",
       "      <td>2.511495</td>\n",
       "      <td>1727.060317</td>\n",
       "      <td>0.301599</td>\n",
       "      <td>0.017343</td>\n",
       "    </tr>\n",
       "  </tbody>\n",
       "</table>\n",
       "<p>5 rows × 38 columns</p>\n",
       "</div>"
      ],
      "text/plain": [
       "                               Route ID                             Driver ID  \\\n",
       "0  c405a09a-7c1c-4cbb-b044-8d93ec12fd41  cd5f2588-0177-4ecf-b43b-64e4cffdae77   \n",
       "1  1fedfb9c-4dd4-4866-ba9b-249b6c28a57c  cef901ab-9579-4d33-8a47-f2d772f71c72   \n",
       "2  5870f02e-e6c5-47a2-b17c-2d9eb0a6b371  0ee00c87-6ef8-4895-b25a-ef185b8f1555   \n",
       "3  7d4a8625-bd3a-42e8-ba14-1770b143f82d  49a5eacb-02d2-408b-b79d-9d3f447d2e37   \n",
       "4  a4f49219-8ed9-49cd-a20e-6f82cc0e9554  b3ae425a-f6f9-41c6-ac70-672e7a7e5bcf   \n",
       "\n",
       "   Delivery Time (hours)        Date  Fuel Costs (USD) Delivery Start Time  \\\n",
       "0               3.661775  2023-04-24         73.167465            18:11:58   \n",
       "1               9.159558  2023-08-08        639.179375            00:56:12   \n",
       "2               1.372942  2023-08-22         92.633480            02:29:03   \n",
       "3               3.855411  2023-08-24        538.893607            21:07:08   \n",
       "4               2.194644  2023-08-10        810.358195            11:36:06   \n",
       "\n",
       "   Distance Traveled (miles)  Estimated Distance (miles) Weather Conditions  \\\n",
       "0                1453.290310                 1284.660045               Snow   \n",
       "1                 751.259132                 2132.837081               Snow   \n",
       "2                2666.204691                 2661.824609         Light Rain   \n",
       "3                1220.239053                  691.805233               Snow   \n",
       "4                2686.870337                 2337.833994         Heavy Rain   \n",
       "\n",
       "  Traffic Conditions  ...  Cost per Gallon (USD) Total Fuel Cost (USD)  \\\n",
       "0           Moderate  ...                    3.5            612.042183   \n",
       "1           Moderate  ...                    3.0            271.188926   \n",
       "2              Light  ...                    3.5           1122.851867   \n",
       "3             Severe  ...                    3.0            440.480927   \n",
       "4              Heavy  ...                    3.5           1131.555047   \n",
       "\n",
       "   Insurance Costs (USD)  Breakdown Repair Costs (USD)  \\\n",
       "0              82.188272                    658.105936   \n",
       "1              31.393083                    699.534174   \n",
       "2              54.905655                    999.656631   \n",
       "3              39.639937                    825.812869   \n",
       "4              39.600330                    769.116645   \n",
       "\n",
       "   Overtime Labor Costs (USD) Fuel Surcharge (USD)  Idle Cost (USD)  \\\n",
       "0                    0.000000             7.739251         1.197690   \n",
       "1                   29.666102            67.608867         0.909051   \n",
       "2                    0.000000             9.798258         2.693096   \n",
       "3                    0.000000            57.001192         2.442666   \n",
       "4                    0.000000            85.715218         2.511495   \n",
       "\n",
       "  Total Operational Cost (USD) Fuel Cost per Mile Delivery Efficiency Score  \n",
       "0                   854.695690           0.050346                  0.035347  \n",
       "1                  1531.803244           0.850811                  0.006516  \n",
       "2                  1178.100685           0.034744                  0.060085  \n",
       "3                  1495.349013           0.441630                  0.047148  \n",
       "4                  1727.060317           0.301599                  0.017343  \n",
       "\n",
       "[5 rows x 38 columns]"
      ]
     },
     "execution_count": 108,
     "metadata": {},
     "output_type": "execute_result"
    }
   ],
   "source": [
    "# Load the cleaned data\n",
    "logistics_df = pd.read_csv('../data/raw/logistics_df.csv')\n",
    "logistics_df.head()"
   ]
  },
  {
   "cell_type": "code",
   "execution_count": 109,
   "metadata": {},
   "outputs": [],
   "source": [
    "# Create Cost per Mile\n",
    "logistics_df['Cost per Mile'] = logistics_df['Fuel Costs (USD)'] / logistics_df['Distance Traveled (miles)']\n"
   ]
  },
  {
   "cell_type": "code",
   "execution_count": 110,
   "metadata": {},
   "outputs": [],
   "source": [
    "logistics_df['Cost per Ton-Mile'] = logistics_df['Total Operational Cost (USD)'] / (logistics_df['Load Weight (tons)'] * logistics_df['Distance Traveled (miles)'])"
   ]
  },
  {
   "cell_type": "code",
   "execution_count": 111,
   "metadata": {},
   "outputs": [],
   "source": [
    "# Create Delivery Efficiency feature\n",
    "logistics_df['Delivery Efficiency'] = logistics_df['Distance Traveled (miles)'] / logistics_df['Delivery Time (hours)']\n"
   ]
  },
  {
   "cell_type": "code",
   "execution_count": 112,
   "metadata": {},
   "outputs": [],
   "source": [
    "# Map Customer Satisfaction to numeric values (assuming an ordinal scale)\n",
    "satisfaction_map = {\n",
    "    'Very Dissatisfied': 1,\n",
    "    'Dissatisfied': 2,\n",
    "    'Neutral': 3,\n",
    "    'Satisfied': 4,\n",
    "    'Very Satisfied': 5\n",
    "}\n",
    "\n",
    "# Apply the mapping\n",
    "logistics_df['Customer Satisfaction'] = logistics_df['Customer Satisfaction'].map(satisfaction_map)\n",
    "\n",
    "inefficient_routes = logistics_df[\n",
    "    (logistics_df['Fuel Cost per Mile'] > logistics_df['Fuel Cost per Mile'].quantile(0.75)) |\n",
    "    (logistics_df['Delays (hours)'] > logistics_df['Delays (hours)'].quantile(0.75)) |\n",
    "    (logistics_df['Customer Satisfaction'] < 3)]"
   ]
  },
  {
   "cell_type": "markdown",
   "metadata": {},
   "source": [
    "Traffic Conditions:\n",
    "        \n",
    "Purpose: Helps analyze how traffic impacts delivery time and fuel consumption, allowing you to recommend optimal delivery times or routes.\n"
   ]
  },
  {
   "cell_type": "code",
   "execution_count": 113,
   "metadata": {},
   "outputs": [],
   "source": [
    " # Categorize routes by length\n",
    "conditions = [\n",
    "    (logistics_df['Distance Traveled (miles)'] < 100),\n",
    "    (logistics_df['Distance Traveled (miles)'] >= 100) & (logistics_df['Distance Traveled (miles)'] < 300),\n",
    "    (logistics_df['Distance Traveled (miles)'] >= 300)\n",
    "    ]\n",
    "categories = ['Short', 'Medium', 'Long']\n",
    "logistics_df['Route Length'] = np.select(conditions, categories)\n",
    "\n",
    "    # Map weather conditions to severity levels\n",
    "weather_map = {\n",
    "    'Sunny': 'Low',\n",
    "    'Cloudy': 'Low',\n",
    "    'Windy': 'Moderate',\n",
    "    'Rainy': 'High',\n",
    "    'Snowy': 'High',\n",
    "    'Stormy': 'Severe'\n",
    "    }\n",
    "logistics_df['Weather Severity'] = logistics_df['Weather Conditions'].map(weather_map)\n"
   ]
  },
  {
   "cell_type": "code",
   "execution_count": 114,
   "metadata": {},
   "outputs": [],
   "source": [
    "weather_map = {'Sunny': 1, 'Cloudy': 2, 'Windy': 3, 'Rainy': 4, 'Snowy': 5, 'Stormy': 6}\n",
    "logistics_df['Weather Severity Score'] = logistics_df['Weather Conditions'].map(weather_map)"
   ]
  },
  {
   "cell_type": "code",
   "execution_count": 115,
   "metadata": {},
   "outputs": [],
   "source": [
    "logistics_df['Severe Weather'] = logistics_df['Weather Conditions'].apply(lambda x: 1 if x in ['Rainy', 'Snowy', 'Stormy'] else 0)"
   ]
  },
  {
   "cell_type": "code",
   "execution_count": 116,
   "metadata": {},
   "outputs": [],
   "source": [
    "severity_mapping = {'Clear': 0, 'Light Rain': 1, 'Heavy Rain': 2, 'Snow': 3, 'Fog': 2}  # Example severity scores\n",
    "logistics_df['Weather Severity Index'] = logistics_df['Weather Conditions'].map(severity_mapping)"
   ]
  },
  {
   "cell_type": "code",
   "execution_count": 117,
   "metadata": {},
   "outputs": [],
   "source": [
    "inefficient_routes = logistics_df[(logistics_df['Fuel Cost per Mile'] > logistics_df['Fuel Cost per Mile'].quantile(0.75)) |\n",
    "                               (logistics_df['Delays (hours)'] > logistics_df['Delays (hours)'].quantile(0.75)) |\n",
    "                               (logistics_df['Customer Satisfaction'] < 3)]"
   ]
  },
  {
   "cell_type": "code",
   "execution_count": 118,
   "metadata": {},
   "outputs": [],
   "source": [
    "route_delivery_time = logistics_df.groupby('Route ID')['Delivery Time (hours)'].mean()"
   ]
  },
  {
   "cell_type": "code",
   "execution_count": 119,
   "metadata": {},
   "outputs": [],
   "source": [
    "logistics_df['Fuel Cost per Mile'] = logistics_df['Fuel Costs (USD)'] / logistics_df['Distance Traveled (miles)']"
   ]
  },
  {
   "cell_type": "code",
   "execution_count": 120,
   "metadata": {},
   "outputs": [],
   "source": [
    "logistics_df['Performance Score'] = (1 / (1 + logistics_df['Delays (hours)']) * logistics_df['Customer Satisfaction'] * (1 / (1 + logistics_df['Fuel Cost per Mile'])))"
   ]
  },
  {
   "cell_type": "code",
   "execution_count": 121,
   "metadata": {},
   "outputs": [],
   "source": [
    "logistics_df['Driver Consistency Score'] = logistics_df.groupby('Driver ID')['Delays (hours)'].transform('mean')"
   ]
  },
  {
   "cell_type": "code",
   "execution_count": 122,
   "metadata": {},
   "outputs": [],
   "source": [
    "# Calculate Fuel Cost per Mile\n",
    "logistics_df['Fuel Cost per Mile'] = logistics_df['Fuel Costs (USD)'] / logistics_df['Distance Traveled (miles)']\n"
   ]
  },
  {
   "cell_type": "code",
   "execution_count": 123,
   "metadata": {},
   "outputs": [],
   "source": [
    "logistics_df = pd.get_dummies(logistics_df, columns=['Traffic Conditions'], drop_first=False)"
   ]
  },
  {
   "cell_type": "code",
   "execution_count": 124,
   "metadata": {},
   "outputs": [],
   "source": [
    "# Add a binary target variable for On-Time Delivery\n",
    "logistics_df['On-Time Delivery'] = np.where(logistics_df['Delays (hours)'] > 1, 0, 1)  # 1 = On-Time, 0 = Delayed"
   ]
  },
  {
   "cell_type": "markdown",
   "metadata": {},
   "source": [
    "New Features for Driver Experience and Weather Severity\n",
    "a) Driver Experience on Specific Routes\n",
    "\n",
    "Assign numeric values based on driver experience to analyze its impact on long and challenging routes."
   ]
  },
  {
   "cell_type": "code",
   "execution_count": 125,
   "metadata": {},
   "outputs": [],
   "source": [
    "# Map driver experience to numeric values\n",
    "experience_map = {'Junior': 1, 'Intermediate': 2, 'Senior': 3}\n",
    "logistics_df['Driver Experience Level'] = logistics_df['Driver Experience'].map(experience_map)\n",
    "\n",
    "# Interaction term: experienced drivers on long routes\n",
    "logistics_df['Experience on Long Routes'] = logistics_df['Driver Experience Level'] * (logistics_df['Route Length'] == 'Long').astype(int)"
   ]
  },
  {
   "cell_type": "code",
   "execution_count": 126,
   "metadata": {},
   "outputs": [
    {
     "data": {
      "image/png": "[encoded data removed]",
      "text/plain": [
       "<Figure size 640x480 with 1 Axes>"
      ]
     },
     "metadata": {},
     "output_type": "display_data"
    }
   ],
   "source": [
    "sns.histplot(logistics_df['Cost per Mile'], bins=30, kde=True)\n",
    "plt.title(\"Distribution of Cost per Mile\")\n",
    "plt.show()\n"
   ]
  },
  {
   "cell_type": "code",
   "execution_count": 127,
   "metadata": {},
   "outputs": [],
   "source": [
    "# Save the engineered data\n",
    "logistics_df.to_csv('../data/processed/engineered_data.csv', index=False)\n"
   ]
  },
  {
   "cell_type": "markdown",
   "metadata": {},
   "source": [
    "\n",
    "Enhanced Modeling\n",
    "a) Improved Feature Engineering for Regression Model\n",
    "\n",
    "Add interaction terms and apply hyperparameter tuning for better performance."
   ]
  },
  {
   "cell_type": "code",
   "execution_count": 128,
   "metadata": {},
   "outputs": [
    {
     "name": "stdout",
     "output_type": "stream",
     "text": [
      "Best Parameters: {'max_depth': 10, 'min_samples_split': 10, 'n_estimators': 200}\n",
      "Best RMSE: 342.78564113084934\n"
     ]
    }
   ],
   "source": [
    "# Interaction term: Distance and Truck Condition\n",
    "logistics_df['Distance * Truck Condition'] = logistics_df['Distance Traveled (miles)'] * logistics_df['Truck Condition']\n",
    "\n",
    "# Define features and target\n",
    "X = logistics_df[['Distance Traveled (miles)', 'Truck Condition', 'Driver Ratings', 'Load Weight (tons)', \n",
    "                  'Traffic Conditions_Severe', 'Weather Severity Index', 'Distance * Truck Condition']]\n",
    "y = logistics_df['Total Operational Cost (USD)']\n",
    "\n",
    "# Hyperparameter tuning with GridSearchCV\n",
    "from sklearn.ensemble import RandomForestRegressor\n",
    "from sklearn.model_selection import GridSearchCV\n",
    "\n",
    "param_grid = {\n",
    "    'n_estimators': [100, 200],\n",
    "    'max_depth': [10, 20, None],\n",
    "    'min_samples_split': [2, 5, 10]\n",
    "}\n",
    "\n",
    "grid_search = GridSearchCV(RandomForestRegressor(random_state=42), param_grid, cv=5, scoring='neg_mean_squared_error')\n",
    "grid_search.fit(X, y)\n",
    "\n",
    "print(\"Best Parameters:\", grid_search.best_params_)\n",
    "print(\"Best RMSE:\", np.sqrt(-grid_search.best_score_))"
   ]
  }
 ],
 "metadata": {
  "kernelspec": {
   "display_name": "condavenv310",
   "language": "python",
   "name": "python3"
  },
  "language_info": {
   "codemirror_mode": {
    "name": "ipython",
    "version": 3
   },
   "file_extension": ".py",
   "mimetype": "text/x-python",
   "name": "python",
   "nbconvert_exporter": "python",
   "pygments_lexer": "ipython3",
   "version": "3.10.14"
  }
 },
 "nbformat": 4,
 "nbformat_minor": 2
}
