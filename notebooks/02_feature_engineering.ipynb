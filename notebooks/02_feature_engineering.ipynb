{
 "cells": [
  {
   "cell_type": "markdown",
   "metadata": {},
   "source": [
    "# Feature Engineering\n",
    "\n",
    "---\n",
    "\n",
    "## 1. Introduction\n",
    "\n",
    "- Explain the purpose of this notebook.\n",
    "- Briefly list the new features you plan to create.\n",
    "\n",
    "## 2. Loading and Preparing Data\n",
    "\n",
    "```python\n",
    "# Import necessary libraries\n",
    "import pandas as pd\n",
    "\n",
    "# Load the cleaned data\n",
    "df = pd.read_csv('../data/processed/cleaned_data.csv')\n",
    "df.head()"
   ]
  },
  {
   "cell_type": "code",
   "execution_count": null,
   "metadata": {},
   "outputs": [],
   "source": [
    "# Create Cost per Mile\n",
    "df['Cost per Mile'] = df['Fuel Costs (USD)'] / df['Distance Traveled (miles)']\n"
   ]
  },
  {
   "cell_type": "code",
   "execution_count": null,
   "metadata": {},
   "outputs": [],
   "source": [
    "# Create Delivery Efficiency feature\n",
    "df['Delivery Efficiency'] = df['Distance Traveled (miles)'] / df['Delivery Time (hours)']\n"
   ]
  },
  {
   "cell_type": "code",
   "execution_count": null,
   "metadata": {},
   "outputs": [],
   "source": [
    "# Create Route Length Category based on distance\n",
    "conditions = [\n",
    "    (df['Distance Traveled (miles)'] < 100),\n",
    "    (df['Distance Traveled (miles)'] >= 100) & (df['Distance Traveled (miles)'] < 300),\n",
    "    (df['Distance Traveled (miles)'] >= 300)\n",
    "]\n",
    "categories = ['Short', 'Medium', 'Long']\n",
    "df['Route Length Category'] = np.select(conditions, categories)\n"
   ]
  },
  {
   "cell_type": "code",
   "execution_count": null,
   "metadata": {},
   "outputs": [],
   "source": [
    "sns.histplot(df['Cost per Mile'], bins=30, kde=True)\n",
    "plt.title(\"Distribution of Cost per Mile\")\n",
    "plt.show()\n"
   ]
  },
  {
   "cell_type": "code",
   "execution_count": null,
   "metadata": {},
   "outputs": [],
   "source": [
    "# Save the engineered data\n",
    "df.to_csv('../data/processed/engineered_data.csv', index=False)\n"
   ]
  }
 ],
 "metadata": {
  "kernelspec": {
   "display_name": "condavenv310",
   "language": "python",
   "name": "python3"
  },
  "language_info": {
   "name": "python",
   "version": "3.10.14"
  }
 },
 "nbformat": 4,
 "nbformat_minor": 2
}
