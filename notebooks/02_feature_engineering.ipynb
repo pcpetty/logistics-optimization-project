{
 "cells": [
  {
   "cell_type": "markdown",
   "metadata": {},
   "source": [
    "# Feature Engineering\n",
    "\n",
    "---\n",
    "\n",
    "Introduction\n",
    "\n",
    "Feature engineering is the heart of predictive analytics, transforming raw data into meaningful features that enhance the model’s performance. In our logistics optimization project, this stage is essential for creating features that capture the nuances of our data and improve our predictive capabilities. By building on insights from the EDA, we’ll derive new features like Cost per Mile and Delivery Efficiency (measured as Distance per Time) to quantify efficiency. These features provide refined lenses through which we can analyze operational costs, helping to differentiate efficient routes and drivers from less efficient ones.\n",
    "\n",
    "In addition to creating new features, we will standardize and encode categorical data to prepare the dataset for machine learning. This structured dataset, rich with engineered features, will form the basis for our predictive models, ultimately allowing us to make informed, data-driven recommendations for logistics optimization.\n",
    "\n",
    "---\n",
    "\n",
    "Conclusion\n",
    "\n",
    "Our feature engineering efforts have enriched the dataset, creating a series of well-defined predictors that will be invaluable in the modeling stage. Cost per Mile and Delivery Efficiency provide quantifiable measures of efficiency, while standardized and encoded categorical data ensure that our models can interpret the dataset effectively. These engineered features not only capture essential operational characteristics but also serve as levers for optimization. By completing this stage, we have crafted a dataset that is primed for predictive modeling, ready to unlock actionable insights into logistics operations.\n",
    "\n",
    "---\n"
   ]
  },
  {
   "cell_type": "markdown",
   "metadata": {},
   "source": [
    "Loading and Preparing Data"
   ]
  },
  {
   "cell_type": "code",
   "execution_count": 129,
   "metadata": {},
   "outputs": [],
   "source": [
    "# Import necessary libraries\n",
    "import pandas as pd\n",
    "import numpy as np\n",
    "import matplotlib.pyplot as plt\n",
    "import seaborn as sns"
   ]
  },
  {
   "cell_type": "code",
   "execution_count": 130,
   "metadata": {},
   "outputs": [],
   "source": [
    "import sys\n",
    "import os\n",
    "\n",
    "# 'scripts' is in the same parent directory as 'notebooks'\n",
    "sys.path.append(os.path.abspath(\"../scripts\"))\n",
    "\n",
    "from feature_engineering import create_features"
   ]
  },
  {
   "cell_type": "code",
   "execution_count": 131,
   "metadata": {},
   "outputs": [
    {
     "data": {
      "text/html": [
       "<div>\n",
       "<style scoped>\n",
       "    .dataframe tbody tr th:only-of-type {\n",
       "        vertical-align: middle;\n",
       "    }\n",
       "\n",
       "    .dataframe tbody tr th {\n",
       "        vertical-align: top;\n",
       "    }\n",
       "\n",
       "    .dataframe thead th {\n",
       "        text-align: right;\n",
       "    }\n",
       "</style>\n",
       "<table border=\"1\" class=\"dataframe\">\n",
       "  <thead>\n",
       "    <tr style=\"text-align: right;\">\n",
       "      <th></th>\n",
       "      <th>Route ID</th>\n",
       "      <th>Driver ID</th>\n",
       "      <th>Delivery Time (hours)</th>\n",
       "      <th>Date</th>\n",
       "      <th>Fuel Costs (USD)</th>\n",
       "      <th>Delivery Start Time</th>\n",
       "      <th>Distance Traveled (miles)</th>\n",
       "      <th>Estimated Distance (miles)</th>\n",
       "      <th>Weather Conditions</th>\n",
       "      <th>Traffic Conditions</th>\n",
       "      <th>...</th>\n",
       "      <th>Cost per Gallon (USD)</th>\n",
       "      <th>Total Fuel Cost (USD)</th>\n",
       "      <th>Insurance Costs (USD)</th>\n",
       "      <th>Breakdown Repair Costs (USD)</th>\n",
       "      <th>Overtime Labor Costs (USD)</th>\n",
       "      <th>Fuel Surcharge (USD)</th>\n",
       "      <th>Idle Cost (USD)</th>\n",
       "      <th>Total Operational Cost (USD)</th>\n",
       "      <th>Fuel Cost per Mile</th>\n",
       "      <th>Delivery Efficiency Score</th>\n",
       "    </tr>\n",
       "  </thead>\n",
       "  <tbody>\n",
       "    <tr>\n",
       "      <th>0</th>\n",
       "      <td>3a2d8f81-6054-45fa-b13a-24cd540ee76d</td>\n",
       "      <td>75149212-0e83-4e5b-83d4-3bd0c53f3030</td>\n",
       "      <td>6.880603</td>\n",
       "      <td>2023-02-09</td>\n",
       "      <td>225.206331</td>\n",
       "      <td>22:34:14</td>\n",
       "      <td>571.318744</td>\n",
       "      <td>2339.271800</td>\n",
       "      <td>Clear</td>\n",
       "      <td>Moderate</td>\n",
       "      <td>...</td>\n",
       "      <td>3.0</td>\n",
       "      <td>305.072583</td>\n",
       "      <td>53.293350</td>\n",
       "      <td>0.0</td>\n",
       "      <td>0.000000</td>\n",
       "      <td>15.806772</td>\n",
       "      <td>0.368712</td>\n",
       "      <td>340.228658</td>\n",
       "      <td>0.394187</td>\n",
       "      <td>0.015323</td>\n",
       "    </tr>\n",
       "    <tr>\n",
       "      <th>1</th>\n",
       "      <td>e8e92a39-62e1-4743-baee-c8544fbe59ee</td>\n",
       "      <td>9f47ca00-1ae7-4f76-878a-9a283d2c2ec2</td>\n",
       "      <td>4.967601</td>\n",
       "      <td>2023-06-17</td>\n",
       "      <td>570.840791</td>\n",
       "      <td>03:38:06</td>\n",
       "      <td>1593.917947</td>\n",
       "      <td>1468.769307</td>\n",
       "      <td>Heavy Rain</td>\n",
       "      <td>Heavy</td>\n",
       "      <td>...</td>\n",
       "      <td>3.5</td>\n",
       "      <td>992.973038</td>\n",
       "      <td>60.448295</td>\n",
       "      <td>0.0</td>\n",
       "      <td>0.000000</td>\n",
       "      <td>40.066147</td>\n",
       "      <td>1.623336</td>\n",
       "      <td>684.194856</td>\n",
       "      <td>0.358137</td>\n",
       "      <td>0.047800</td>\n",
       "    </tr>\n",
       "    <tr>\n",
       "      <th>2</th>\n",
       "      <td>f6b4a887-f0cc-4528-a178-583c6c4d1fc4</td>\n",
       "      <td>fc05b7ca-0b9f-427d-9874-e21be1c6e521</td>\n",
       "      <td>8.094009</td>\n",
       "      <td>2023-12-18</td>\n",
       "      <td>447.387571</td>\n",
       "      <td>09:01:13</td>\n",
       "      <td>1127.075475</td>\n",
       "      <td>2270.634894</td>\n",
       "      <td>Clear</td>\n",
       "      <td>Severe</td>\n",
       "      <td>...</td>\n",
       "      <td>3.0</td>\n",
       "      <td>601.835368</td>\n",
       "      <td>36.241719</td>\n",
       "      <td>0.0</td>\n",
       "      <td>2.384313</td>\n",
       "      <td>31.401218</td>\n",
       "      <td>0.855647</td>\n",
       "      <td>559.776989</td>\n",
       "      <td>0.396946</td>\n",
       "      <td>0.007551</td>\n",
       "    </tr>\n",
       "    <tr>\n",
       "      <th>3</th>\n",
       "      <td>257e5a3f-78d3-48a1-8584-f508f2ee3670</td>\n",
       "      <td>4dd64322-0cc6-44a8-a2b7-b5f2663c9cae</td>\n",
       "      <td>7.297488</td>\n",
       "      <td>2023-04-22</td>\n",
       "      <td>886.741516</td>\n",
       "      <td>14:26:53</td>\n",
       "      <td>1607.293364</td>\n",
       "      <td>2476.720021</td>\n",
       "      <td>Heavy Rain</td>\n",
       "      <td>Light</td>\n",
       "      <td>...</td>\n",
       "      <td>3.0</td>\n",
       "      <td>858.261948</td>\n",
       "      <td>75.561809</td>\n",
       "      <td>0.0</td>\n",
       "      <td>0.000000</td>\n",
       "      <td>62.238573</td>\n",
       "      <td>0.330756</td>\n",
       "      <td>1052.419293</td>\n",
       "      <td>0.551699</td>\n",
       "      <td>0.008019</td>\n",
       "    </tr>\n",
       "    <tr>\n",
       "      <th>4</th>\n",
       "      <td>c74ae987-3974-490b-9707-bb325937916f</td>\n",
       "      <td>4ad93d48-9ad6-46a7-933c-57f8603a7f03</td>\n",
       "      <td>7.797437</td>\n",
       "      <td>2023-07-07</td>\n",
       "      <td>871.855361</td>\n",
       "      <td>03:17:26</td>\n",
       "      <td>379.177698</td>\n",
       "      <td>965.593024</td>\n",
       "      <td>Heavy Rain</td>\n",
       "      <td>Light</td>\n",
       "      <td>...</td>\n",
       "      <td>3.5</td>\n",
       "      <td>236.218704</td>\n",
       "      <td>26.602416</td>\n",
       "      <td>0.0</td>\n",
       "      <td>0.000000</td>\n",
       "      <td>61.193744</td>\n",
       "      <td>2.769288</td>\n",
       "      <td>1008.848800</td>\n",
       "      <td>2.299332</td>\n",
       "      <td>0.013692</td>\n",
       "    </tr>\n",
       "  </tbody>\n",
       "</table>\n",
       "<p>5 rows × 38 columns</p>\n",
       "</div>"
      ],
      "text/plain": [
       "                               Route ID                             Driver ID  \\\n",
       "0  3a2d8f81-6054-45fa-b13a-24cd540ee76d  75149212-0e83-4e5b-83d4-3bd0c53f3030   \n",
       "1  e8e92a39-62e1-4743-baee-c8544fbe59ee  9f47ca00-1ae7-4f76-878a-9a283d2c2ec2   \n",
       "2  f6b4a887-f0cc-4528-a178-583c6c4d1fc4  fc05b7ca-0b9f-427d-9874-e21be1c6e521   \n",
       "3  257e5a3f-78d3-48a1-8584-f508f2ee3670  4dd64322-0cc6-44a8-a2b7-b5f2663c9cae   \n",
       "4  c74ae987-3974-490b-9707-bb325937916f  4ad93d48-9ad6-46a7-933c-57f8603a7f03   \n",
       "\n",
       "   Delivery Time (hours)        Date  Fuel Costs (USD) Delivery Start Time  \\\n",
       "0               6.880603  2023-02-09        225.206331            22:34:14   \n",
       "1               4.967601  2023-06-17        570.840791            03:38:06   \n",
       "2               8.094009  2023-12-18        447.387571            09:01:13   \n",
       "3               7.297488  2023-04-22        886.741516            14:26:53   \n",
       "4               7.797437  2023-07-07        871.855361            03:17:26   \n",
       "\n",
       "   Distance Traveled (miles)  Estimated Distance (miles) Weather Conditions  \\\n",
       "0                 571.318744                 2339.271800              Clear   \n",
       "1                1593.917947                 1468.769307         Heavy Rain   \n",
       "2                1127.075475                 2270.634894              Clear   \n",
       "3                1607.293364                 2476.720021         Heavy Rain   \n",
       "4                 379.177698                  965.593024         Heavy Rain   \n",
       "\n",
       "  Traffic Conditions  ...  Cost per Gallon (USD) Total Fuel Cost (USD)  \\\n",
       "0           Moderate  ...                    3.0            305.072583   \n",
       "1              Heavy  ...                    3.5            992.973038   \n",
       "2             Severe  ...                    3.0            601.835368   \n",
       "3              Light  ...                    3.0            858.261948   \n",
       "4              Light  ...                    3.5            236.218704   \n",
       "\n",
       "   Insurance Costs (USD)  Breakdown Repair Costs (USD)  \\\n",
       "0              53.293350                           0.0   \n",
       "1              60.448295                           0.0   \n",
       "2              36.241719                           0.0   \n",
       "3              75.561809                           0.0   \n",
       "4              26.602416                           0.0   \n",
       "\n",
       "   Overtime Labor Costs (USD) Fuel Surcharge (USD)  Idle Cost (USD)  \\\n",
       "0                    0.000000            15.806772         0.368712   \n",
       "1                    0.000000            40.066147         1.623336   \n",
       "2                    2.384313            31.401218         0.855647   \n",
       "3                    0.000000            62.238573         0.330756   \n",
       "4                    0.000000            61.193744         2.769288   \n",
       "\n",
       "  Total Operational Cost (USD) Fuel Cost per Mile Delivery Efficiency Score  \n",
       "0                   340.228658           0.394187                  0.015323  \n",
       "1                   684.194856           0.358137                  0.047800  \n",
       "2                   559.776989           0.396946                  0.007551  \n",
       "3                  1052.419293           0.551699                  0.008019  \n",
       "4                  1008.848800           2.299332                  0.013692  \n",
       "\n",
       "[5 rows x 38 columns]"
      ]
     },
     "execution_count": 131,
     "metadata": {},
     "output_type": "execute_result"
    }
   ],
   "source": [
    "# Load the cleaned data\n",
    "logistics_df = pd.read_csv('../data/raw/logistics_df.csv')\n",
    "logistics_df.head()"
   ]
  },
  {
   "cell_type": "code",
   "execution_count": 132,
   "metadata": {},
   "outputs": [],
   "source": [
    "# Create Cost per Mile\n",
    "logistics_df['Cost per Mile'] = logistics_df['Fuel Costs (USD)'] / logistics_df['Distance Traveled (miles)']\n"
   ]
  },
  {
   "cell_type": "code",
   "execution_count": 133,
   "metadata": {},
   "outputs": [],
   "source": [
    "logistics_df['Cost per Ton-Mile'] = logistics_df['Total Operational Cost (USD)'] / (logistics_df['Load Weight (tons)'] * logistics_df['Distance Traveled (miles)'])"
   ]
  },
  {
   "cell_type": "code",
   "execution_count": 134,
   "metadata": {},
   "outputs": [],
   "source": [
    "# Create Delivery Efficiency feature\n",
    "logistics_df['Delivery Efficiency'] = logistics_df['Distance Traveled (miles)'] / logistics_df['Delivery Time (hours)']\n"
   ]
  },
  {
   "cell_type": "code",
   "execution_count": 135,
   "metadata": {},
   "outputs": [],
   "source": [
    "# Map Customer Satisfaction to numeric values (assuming an ordinal scale)\n",
    "satisfaction_map = {\n",
    "    'Very Dissatisfied': 1,\n",
    "    'Dissatisfied': 2,\n",
    "    'Neutral': 3,\n",
    "    'Satisfied': 4,\n",
    "    'Very Satisfied': 5\n",
    "}\n",
    "\n",
    "# Apply the mapping\n",
    "logistics_df['Customer Satisfaction'] = logistics_df['Customer Satisfaction'].map(satisfaction_map)\n",
    "\n",
    "inefficient_routes = logistics_df[\n",
    "    (logistics_df['Fuel Cost per Mile'] > logistics_df['Fuel Cost per Mile'].quantile(0.75)) |\n",
    "    (logistics_df['Delays (hours)'] > logistics_df['Delays (hours)'].quantile(0.75)) |\n",
    "    (logistics_df['Customer Satisfaction'] < 3)]"
   ]
  },
  {
   "cell_type": "markdown",
   "metadata": {},
   "source": [
    "Traffic Conditions:\n",
    "        \n",
    "Purpose: Helps analyze how traffic impacts delivery time and fuel consumption, allows recommending optimal delivery times or routes.\n"
   ]
  },
  {
   "cell_type": "code",
   "execution_count": 136,
   "metadata": {},
   "outputs": [],
   "source": [
    " # Categorize routes by length\n",
    "conditions = [\n",
    "    (logistics_df['Distance Traveled (miles)'] < 100),\n",
    "    (logistics_df['Distance Traveled (miles)'] >= 100) & (logistics_df['Distance Traveled (miles)'] < 300),\n",
    "    (logistics_df['Distance Traveled (miles)'] >= 300)\n",
    "    ]\n",
    "categories = ['Short', 'Medium', 'Long']\n",
    "logistics_df['Route Length'] = np.select(conditions, categories)\n",
    "\n",
    "    # Map weather conditions to severity levels\n",
    "weather_map = {\n",
    "    'Sunny': 'Low',\n",
    "    'Cloudy': 'Low',\n",
    "    'Windy': 'Moderate',\n",
    "    'Rainy': 'High',\n",
    "    'Snowy': 'High',\n",
    "    'Stormy': 'Severe'\n",
    "    }\n",
    "logistics_df['Weather Severity'] = logistics_df['Weather Conditions'].map(weather_map)\n"
   ]
  },
  {
   "cell_type": "code",
   "execution_count": 137,
   "metadata": {},
   "outputs": [],
   "source": [
    "weather_map = {'Sunny': 1, 'Cloudy': 2, 'Windy': 3, 'Rainy': 4, 'Snowy': 5, 'Stormy': 6}\n",
    "logistics_df['Weather Severity Score'] = logistics_df['Weather Conditions'].map(weather_map)"
   ]
  },
  {
   "cell_type": "code",
   "execution_count": 138,
   "metadata": {},
   "outputs": [],
   "source": [
    "logistics_df['Severe Weather'] = logistics_df['Weather Conditions'].apply(lambda x: 1 if x in ['Rainy', 'Snowy', 'Stormy'] else 0)"
   ]
  },
  {
   "cell_type": "code",
   "execution_count": 139,
   "metadata": {},
   "outputs": [],
   "source": [
    "severity_mapping = {'Clear': 0, 'Light Rain': 1, 'Heavy Rain': 2, 'Snow': 3, 'Fog': 2}  # Example severity scores\n",
    "logistics_df['Weather Severity Index'] = logistics_df['Weather Conditions'].map(severity_mapping)"
   ]
  },
  {
   "cell_type": "code",
   "execution_count": 140,
   "metadata": {},
   "outputs": [],
   "source": [
    "inefficient_routes = logistics_df[(logistics_df['Fuel Cost per Mile'] > logistics_df['Fuel Cost per Mile'].quantile(0.75)) |\n",
    "                               (logistics_df['Delays (hours)'] > logistics_df['Delays (hours)'].quantile(0.75)) |\n",
    "                               (logistics_df['Customer Satisfaction'] < 3)]"
   ]
  },
  {
   "cell_type": "code",
   "execution_count": 141,
   "metadata": {},
   "outputs": [],
   "source": [
    "route_delivery_time = logistics_df.groupby('Route ID')['Delivery Time (hours)'].mean()"
   ]
  },
  {
   "cell_type": "code",
   "execution_count": 142,
   "metadata": {},
   "outputs": [],
   "source": [
    "logistics_df['Fuel Cost per Mile'] = logistics_df['Fuel Costs (USD)'] / logistics_df['Distance Traveled (miles)']"
   ]
  },
  {
   "cell_type": "code",
   "execution_count": 143,
   "metadata": {},
   "outputs": [],
   "source": [
    "logistics_df['Performance Score'] = (1 / (1 + logistics_df['Delays (hours)']) * logistics_df['Customer Satisfaction'] * (1 / (1 + logistics_df['Fuel Cost per Mile'])))"
   ]
  },
  {
   "cell_type": "code",
   "execution_count": 144,
   "metadata": {},
   "outputs": [],
   "source": [
    "logistics_df['Driver Consistency Score'] = logistics_df.groupby('Driver ID')['Delays (hours)'].transform('mean')"
   ]
  },
  {
   "cell_type": "code",
   "execution_count": 145,
   "metadata": {},
   "outputs": [],
   "source": [
    "# Calculate Fuel Cost per Mile\n",
    "logistics_df['Fuel Cost per Mile'] = logistics_df['Fuel Costs (USD)'] / logistics_df['Distance Traveled (miles)']\n"
   ]
  },
  {
   "cell_type": "code",
   "execution_count": 146,
   "metadata": {},
   "outputs": [],
   "source": [
    "logistics_df = pd.get_dummies(logistics_df, columns=['Traffic Conditions'], drop_first=False)"
   ]
  },
  {
   "cell_type": "code",
   "execution_count": 147,
   "metadata": {},
   "outputs": [],
   "source": [
    "# Add a binary target variable for On-Time Delivery\n",
    "logistics_df['On-Time Delivery'] = np.where(logistics_df['Delays (hours)'] > 1, 0, 1)  # 1 = On-Time, 0 = Delayed"
   ]
  },
  {
   "cell_type": "markdown",
   "metadata": {},
   "source": [
    "New Features for Driver Experience and Weather Severity\n",
    "a) Driver Experience on Specific Routes\n",
    "\n",
    "Assign numeric values based on driver experience to analyze its impact on long and challenging routes."
   ]
  },
  {
   "cell_type": "code",
   "execution_count": 148,
   "metadata": {},
   "outputs": [],
   "source": [
    "# Map driver experience to numeric values\n",
    "experience_map = {'Junior': 1, 'Intermediate': 2, 'Senior': 3}\n",
    "logistics_df['Driver Experience Level'] = logistics_df['Driver Experience'].map(experience_map)\n",
    "\n",
    "# Interaction term: experienced drivers on long routes\n",
    "logistics_df['Experience on Long Routes'] = logistics_df['Driver Experience Level'] * (logistics_df['Route Length'] == 'Long').astype(int)"
   ]
  },
  {
   "cell_type": "code",
   "execution_count": 149,
   "metadata": {},
   "outputs": [
    {
     "data": {
      "image/png": "[encoded data removed]",
      "text/plain": [
       "<Figure size 640x480 with 1 Axes>"
      ]
     },
     "metadata": {},
     "output_type": "display_data"
    }
   ],
   "source": [
    "sns.histplot(logistics_df['Cost per Mile'], bins=30, kde=True)\n",
    "plt.title(\"Distribution of Cost per Mile\")\n",
    "plt.show()\n"
   ]
  },
  {
   "cell_type": "code",
   "execution_count": 150,
   "metadata": {},
   "outputs": [],
   "source": [
    "# Save the engineered data\n",
    "logistics_df.to_csv('../data/processed/engineered_data.csv', index=False)\n"
   ]
  },
  {
   "cell_type": "markdown",
   "metadata": {},
   "source": [
    "\n",
    "Enhanced Modeling\n",
    "a) Improved Feature Engineering for Regression Model\n",
    "\n",
    "Add interaction terms and apply hyperparameter tuning for better performance."
   ]
  },
  {
   "cell_type": "code",
   "execution_count": 151,
   "metadata": {},
   "outputs": [
    {
     "name": "stdout",
     "output_type": "stream",
     "text": [
      "Best Parameters: {'max_depth': 10, 'min_samples_split': 10, 'n_estimators': 200}\n",
      "Best RMSE: 330.031825747286\n"
     ]
    }
   ],
   "source": [
    "# Interaction term: Distance and Truck Condition\n",
    "logistics_df['Distance * Truck Condition'] = logistics_df['Distance Traveled (miles)'] * logistics_df['Truck Condition']\n",
    "\n",
    "# Define features and target\n",
    "X = logistics_df[['Distance Traveled (miles)', 'Truck Condition', 'Driver Ratings', 'Load Weight (tons)', \n",
    "                  'Traffic Conditions_Severe', 'Weather Severity Index', 'Distance * Truck Condition']]\n",
    "y = logistics_df['Total Operational Cost (USD)']\n",
    "\n",
    "# Hyperparameter tuning with GridSearchCV\n",
    "from sklearn.ensemble import RandomForestRegressor\n",
    "from sklearn.model_selection import GridSearchCV\n",
    "\n",
    "param_grid = {\n",
    "    'n_estimators': [100, 200],\n",
    "    'max_depth': [10, 20, None],\n",
    "    'min_samples_split': [2, 5, 10]\n",
    "}\n",
    "\n",
    "grid_search = GridSearchCV(RandomForestRegressor(random_state=42), param_grid, cv=5, scoring='neg_mean_squared_error')\n",
    "grid_search.fit(X, y)\n",
    "\n",
    "print(\"Best Parameters:\", grid_search.best_params_)\n",
    "print(\"Best RMSE:\", np.sqrt(-grid_search.best_score_))"
   ]
  }
 ],
 "metadata": {
  "kernelspec": {
   "display_name": "condavenv310",
   "language": "python",
   "name": "python3"
  },
  "language_info": {
   "codemirror_mode": {
    "name": "ipython",
    "version": 3
   },
   "file_extension": ".py",
   "mimetype": "text/x-python",
   "name": "python",
   "nbconvert_exporter": "python",
   "pygments_lexer": "ipython3",
   "version": "3.10.14"
  }
 },
 "nbformat": 4,
 "nbformat_minor": 2
}
